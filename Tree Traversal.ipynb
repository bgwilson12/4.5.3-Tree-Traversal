{
 "cells": [
  {
   "cell_type": "code",
   "execution_count": 1,
   "metadata": {},
   "outputs": [],
   "source": [
    "import numpy as np"
   ]
  },
  {
   "cell_type": "code",
   "execution_count": 2,
   "metadata": {},
   "outputs": [],
   "source": [
    "class Node:\n",
    "    def __init__(self, val):\n",
    "        self.left = None\n",
    "        self.right = None\n",
    "        self.val = val"
   ]
  },
  {
   "cell_type": "code",
   "execution_count": 3,
   "metadata": {},
   "outputs": [],
   "source": [
    "# Chooses random direction to traverse in tree\n",
    "def rand_direction():\n",
    "    return np.random.choice([0, 1])\n",
    "\n",
    "# Creates a new node\n",
    "def create_node(node):\n",
    "    direction = rand_direction()\n",
    "    if direction:\n",
    "        if node.right:\n",
    "            return create_node(node.right)\n",
    "        else:\n",
    "            node.right = Node(np.random.randint(1, 30))\n",
    "    else:\n",
    "        if node.left:\n",
    "            return create_node(node.left)\n",
    "        else:\n",
    "            node.left = Node(np.random.randint(1, 30))\n"
   ]
  },
  {
   "cell_type": "code",
   "execution_count": 4,
   "metadata": {},
   "outputs": [],
   "source": [
    "# Creates a tree from a seed\n",
    "root = Node(3)\n",
    "for i in range(15):\n",
    "    create_node(root)"
   ]
  },
  {
   "cell_type": "code",
   "execution_count": 10,
   "metadata": {},
   "outputs": [
    {
     "name": "stdout",
     "output_type": "stream",
     "text": [
      "[3]\n",
      "[15, 14]\n",
      "[19, 22, 23, 25]\n",
      "[6, 0, 8, 0, 3, 0, 23, 17]\n",
      "[0, 0, 0, 0, 18, 28, 0, 0, 0, 0, 0, 0, 19, 0, 0, 0]\n",
      "[0, 0, 0, 0, 0, 0, 0, 0, 0, 0, 0, 0, 0, 0, 0, 0, 0, 0, 0, 0, 0, 0, 0, 0, 21, 0, 0, 0, 0, 0, 0, 0]\n"
     ]
    }
   ],
   "source": [
    "# Breadth first traversal\n",
    "def get_children(parent_nodes):\n",
    "    if type(parent_nodes) != list:\n",
    "        parent_nodes = [parent_nodes]\n",
    "        \n",
    "    parent_values = []\n",
    "    for parent_node in parent_nodes:\n",
    "        if parent_node == 0:\n",
    "            parent_values.append(0)\n",
    "        else:\n",
    "            parent_values.append(parent_node.val)\n",
    "    print(parent_values)\n",
    "\n",
    "    child_nodes = []\n",
    "    for parent_node in parent_nodes:\n",
    "        if parent_node == 0:\n",
    "            child_nodes.extend([0, 0])\n",
    "        else:\n",
    "            if parent_node.left:\n",
    "                child_nodes.append(parent_node.left)\n",
    "            else:\n",
    "                child_nodes.append(0)\n",
    "            if parent_node.right:\n",
    "                child_nodes.append(parent_node.right)\n",
    "            else:\n",
    "                child_nodes.append(0)\n",
    "        \n",
    "    if not all([each == 0 for each in child_nodes]):\n",
    "        get_children(child_nodes)\n",
    "    \n",
    "get_children(root)\n"
   ]
  }
 ],
 "metadata": {
  "kernelspec": {
   "display_name": "Python 3",
   "language": "python",
   "name": "python3"
  },
  "language_info": {
   "codemirror_mode": {
    "name": "ipython",
    "version": 3
   },
   "file_extension": ".py",
   "mimetype": "text/x-python",
   "name": "python",
   "nbconvert_exporter": "python",
   "pygments_lexer": "ipython3",
   "version": "3.6.4"
  }
 },
 "nbformat": 4,
 "nbformat_minor": 2
}
